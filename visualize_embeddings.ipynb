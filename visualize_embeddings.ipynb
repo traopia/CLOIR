{
 "cells": [
  {
   "cell_type": "code",
   "execution_count": null,
   "metadata": {},
   "outputs": [],
   "source": [
    "#!pip install renumics-spotlight datasets\n"
   ]
  },
  {
   "cell_type": "markdown",
   "metadata": {},
   "source": [
    "Visualize with features extracted from foundational models"
   ]
  },
  {
   "cell_type": "code",
   "execution_count": 2,
   "metadata": {},
   "outputs": [
    {
     "data": {
      "application/vnd.jupyter.widget-view+json": {
       "model_id": "971c15975fa9460bb9c75703f347f748",
       "version_major": 2,
       "version_minor": 0
      },
      "text/plain": [
       "VBox(children=(Label(value='Spotlight running on http://127.0.0.1:64637/'), HBox(children=(Button(description=…"
      ]
     },
     "metadata": {},
     "output_type": "display_data"
    }
   ],
   "source": [
    "import pandas as pd\n",
    "from datasets import Dataset\n",
    "from renumics import spotlight\n",
    "\n",
    "df = pd.read_pickle('DATA/Dataset/wikiart_full_combined_no_artist.pkl')\n",
    "all_artist_names = set(df['artist_name'])\n",
    "df['influenced_by'] = df['influenced_by'].apply(lambda artists_list: [artist for artist in artists_list if artist in all_artist_names])\n",
    "df.drop(columns = ['title'],inplace=True)\n",
    "df.image_features = df.image_features.apply(lambda x: x.numpy())\n",
    "df.text_features = df.text_features.apply(lambda x: x.numpy())\n",
    "df.image_text_features = df.image_text_features.apply(lambda x: x.numpy())\n",
    "\n",
    "dataset = Dataset.from_pandas(df)\n",
    "\n",
    "spotlight.show(dataset, dtype={'image_features':spotlight.Embedding})\n"
   ]
  },
  {
   "cell_type": "markdown",
   "metadata": {},
   "source": [
    "Visualize with finetuned "
   ]
  },
  {
   "cell_type": "code",
   "execution_count": null,
   "metadata": {},
   "outputs": [],
   "source": [
    "from Triplet_Network import TripletResNet_features\n",
    "import torch\n",
    "feature = 'image_text_features'\n",
    "model_path = 'trained_models/TripletResNet_image_text_features_posfaiss_negrandom_100_margin10/model.pth'\n",
    "model = TripletResNet_features(df.loc[0,feature].shape[0])\n",
    "model.load_state_dict(torch.load(model_path, map_location=torch.device('cpu')))\n",
    "model.eval()\n",
    "df[f'trained_{feature}'] = df[feature].apply(lambda x: model.forward_once(x).detach())\n",
    "df.trained_image_text_features = df.trained_image_text_features.apply(lambda x: x.numpy())\n",
    "df.image_features = df.image_features.apply(lambda x: x.numpy())\n",
    "df.text_features = df.text_features.apply(lambda x: x.numpy())\n",
    "df.image_text_features = df.image_text_features.apply(lambda x: x.numpy())"
   ]
  }
 ],
 "metadata": {
  "kernelspec": {
   "display_name": "artsagenet_new",
   "language": "python",
   "name": "python3"
  },
  "language_info": {
   "codemirror_mode": {
    "name": "ipython",
    "version": 3
   },
   "file_extension": ".py",
   "mimetype": "text/x-python",
   "name": "python",
   "nbconvert_exporter": "python",
   "pygments_lexer": "ipython3",
   "version": "3.11.7"
  }
 },
 "nbformat": 4,
 "nbformat_minor": 2
}
