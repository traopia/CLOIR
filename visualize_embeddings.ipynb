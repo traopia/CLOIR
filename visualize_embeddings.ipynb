{
 "cells": [
  {
   "cell_type": "code",
   "execution_count": null,
   "metadata": {},
   "outputs": [],
   "source": [
    "#!pip install renumics-spotlight datasets\n"
   ]
  },
  {
   "cell_type": "code",
   "execution_count": 1,
   "metadata": {},
   "outputs": [],
   "source": [
    "import os\n",
    "os.environ['PYDEVD_USE_CYTHON'] = 'NO'\n",
    "\n",
    "\n"
   ]
  },
  {
   "cell_type": "markdown",
   "metadata": {},
   "source": [
    "Visualize with features extracted from foundational models"
   ]
  },
  {
   "cell_type": "code",
   "execution_count": 2,
   "metadata": {},
   "outputs": [],
   "source": [
    "import pandas as pd\n",
    "from datasets import Dataset\n",
    "from renumics import spotlight\n",
    "\n",
    "dataset_name = \"wikiart\"\n",
    "feature = 'image_text_features'\n",
    "if dataset_name == 'wikiart':\n",
    "    df = pd.read_pickle('DATA/Dataset/wikiart/wikiart_full_combined_no_artist_filtered.pkl')\n",
    "elif dataset_name == 'fashion':\n",
    "    df = pd.read_pickle('DATA/Dataset/iDesigner/idesigner_influences_cropped_features.pkl')\n",
    "# all_artist_names = set(df['artist_name'])\n",
    "# df['influenced_by'] = df['influenced_by'].apply(lambda artists_list: [artist for artist in artists_list if artist in all_artist_names])\n",
    "\n",
    "df[\"image_features\"] = df[\"image_features\"].apply(lambda x: x.numpy())\n",
    "#df['influenced_by'] = df['influenced_by'].apply(lambda x: ' '.join(x))\n",
    "if dataset_name == 'wikiart':\n",
    "    df.drop(columns = ['title'],inplace=True)\n",
    "    df.text_features = df.text_features.apply(lambda x: x.numpy())\n",
    "    df.image_text_features = df.image_text_features.apply(lambda x: x.numpy())\n",
    "\n",
    "# dataset = Dataset.from_pandas(df)\n",
    "\n",
    "# spotlight.show(dataset, dtype={feature:spotlight.Embedding})\n"
   ]
  },
  {
   "cell_type": "markdown",
   "metadata": {},
   "source": [
    "Visualize with finetuned "
   ]
  },
  {
   "cell_type": "code",
   "execution_count": 3,
   "metadata": {},
   "outputs": [
    {
     "ename": "",
     "evalue": "",
     "output_type": "error",
     "traceback": [
      "\u001b[1;31mThe Kernel crashed while executing code in the current cell or a previous cell. \n",
      "\u001b[1;31mPlease review the code in the cell(s) to identify a possible cause of the failure. \n",
      "\u001b[1;31mClick <a href='https://aka.ms/vscodeJupyterKernelCrash'>here</a> for more info. \n",
      "\u001b[1;31mView Jupyter <a href='command:jupyter.viewOutput'>log</a> for further details."
     ]
    }
   ],
   "source": [
    "from Triplet_Network import TripletResNet_features\n",
    "import torch\n",
    "\n",
    "model_path = f'trained_models/{dataset_name}/ResNet34/TripletResNet_{feature}_posfaiss_negrandom_100_margin1/model.pth'\n",
    "model = TripletResNet_features(df.loc[0,feature].shape[0])\n",
    "model.load_state_dict(torch.load(model_path, map_location=torch.device('cpu')))\n",
    "model.eval()\n",
    "df[feature] = df[feature].apply(lambda x: torch.from_numpy(x))\n",
    "df[f'trained_{feature}'] = df[feature].apply(lambda x: model.forward_once(x).detach())\n",
    "df[f'trained_{feature}'] = df[f'trained_{feature}'].apply(lambda x: x.numpy())\n",
    "df[feature] = df[feature].apply(lambda x: x.numpy())\n",
    "\n",
    "\n",
    "dataset = Dataset.from_pandas(df)\n",
    "\n",
    "spotlight.show(dataset, dtype={f'trained_{feature}':spotlight.Embedding})"
   ]
  },
  {
   "cell_type": "code",
   "execution_count": 5,
   "metadata": {},
   "outputs": [
    {
     "ename": "",
     "evalue": "",
     "output_type": "error",
     "traceback": [
      "\u001b[1;31mThe Kernel crashed while executing code in the current cell or a previous cell. \n",
      "\u001b[1;31mPlease review the code in the cell(s) to identify a possible cause of the failure. \n",
      "\u001b[1;31mClick <a href='https://aka.ms/vscodeJupyterKernelCrash'>here</a> for more info. \n",
      "\u001b[1;31mView Jupyter <a href='command:jupyter.viewOutput'>log</a> for further details."
     ]
    }
   ],
   "source": [
    "dataset = Dataset.from_pandas(df)\n",
    "\n",
    "spotlight.show(dataset, dtype={f'trained_{feature}':spotlight.Embedding})"
   ]
  }
 ],
 "metadata": {
  "kernelspec": {
   "display_name": "artsagenet_new",
   "language": "python",
   "name": "python3"
  },
  "language_info": {
   "codemirror_mode": {
    "name": "ipython",
    "version": 3
   },
   "file_extension": ".py",
   "mimetype": "text/x-python",
   "name": "python",
   "nbconvert_exporter": "python",
   "pygments_lexer": "ipython3",
   "version": "3.11.7"
  }
 },
 "nbformat": 4,
 "nbformat_minor": 2
}
