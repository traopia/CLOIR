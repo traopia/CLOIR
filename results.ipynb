{
 "cells": [
  {
   "cell_type": "code",
   "execution_count": 1,
   "metadata": {},
   "outputs": [],
   "source": [
    "import torch\n",
    "import pandas as pd\n",
    "import numpy as np\n",
    "\n",
    "def print_mean_metrics(IR):\n",
    "        print(f'Precision at k10 for artist: {round(np.mean(list(IR[\"precision_at_k_artist\"].values())),3)}, MRR for artist: {round(np.mean(list(IR[\"mrr_artist\"].values())),3)}')\n",
    "        print(f'Precision at k10 for second degree artist: {round(np.mean(list(IR[\"precision_at_k_artist_second_degree\"].values())),3)}, MRR for second degree artist: {round(np.mean(list(IR[\"mrr_artist_second_degree\"].values())),3)}')"
   ]
  },
  {
   "cell_type": "markdown",
   "metadata": {},
   "source": [
    "WIKIART DATASET "
   ]
  },
  {
   "cell_type": "code",
   "execution_count": 43,
   "metadata": {},
   "outputs": [
    {
     "name": "stdout",
     "output_type": "stream",
     "text": [
      "Precision at k10 for artist: 0.086, MRR for artist: 0.171\n",
      "Precision at k10 for second degree artist: 0.148, MRR for second degree artist: 0.277\n"
     ]
    }
   ],
   "source": [
    "#baseline\n",
    "baseline_image_features = torch.load('trained_models/wikiart/ResNet34/baseline_IR_metrics/image_features.pth')\n",
    "print_mean_metrics(baseline_image_features)"
   ]
  },
  {
   "cell_type": "code",
   "execution_count": 2,
   "metadata": {},
   "outputs": [
    {
     "name": "stdout",
     "output_type": "stream",
     "text": [
      "Precision at k10 for artist: 0.091, MRR for artist: 0.176\n",
      "Precision at k10 for second degree artist: 0.151, MRR for second degree artist: 0.274\n"
     ]
    }
   ],
   "source": [
    "baseline_image_features = torch.load('trained_models/wikiart/ResNet34_newsplit/baseline_IR_metrics/image_features.pth')\n",
    "print_mean_metrics(baseline_image_features)"
   ]
  },
  {
   "cell_type": "code",
   "execution_count": 21,
   "metadata": {},
   "outputs": [
    {
     "data": {
      "text/plain": [
       "150"
      ]
     },
     "execution_count": 21,
     "metadata": {},
     "output_type": "execute_result"
    }
   ],
   "source": [
    "len(baseline_image_features['precision_at_k_artist'])"
   ]
  },
  {
   "cell_type": "code",
   "execution_count": 3,
   "metadata": {},
   "outputs": [
    {
     "name": "stdout",
     "output_type": "stream",
     "text": [
      "Precision at k10 for artist: 0.403, MRR for artist: 0.474\n",
      "Precision at k10 for second degree artist: 0.447, MRR for second degree artist: 0.512\n"
     ]
    }
   ],
   "source": [
    "IR = torch.load('trained_models/wikiart/ResNet34/TripletResNet_image_text_features_posfaiss_negrandom_100_margin1/IR_metrics/metrics_val.pth')\n",
    "print_mean_metrics(IR)"
   ]
  },
  {
   "cell_type": "code",
   "execution_count": 4,
   "metadata": {},
   "outputs": [
    {
     "name": "stdout",
     "output_type": "stream",
     "text": [
      "Precision at k10 for artist: 0.369, MRR for artist: 0.406\n",
      "Precision at k10 for second degree artist: 0.396, MRR for second degree artist: 0.434\n"
     ]
    }
   ],
   "source": [
    "IR = torch.load('trained_models/wikiart/ResNet34/TripletResNet_image_text_features_posrandom_negrandom_100_margin1/IR_metrics/metrics_val.pth')\n",
    "print_mean_metrics(IR)"
   ]
  },
  {
   "cell_type": "code",
   "execution_count": 4,
   "metadata": {},
   "outputs": [
    {
     "name": "stdout",
     "output_type": "stream",
     "text": [
      "Precision at k10 for artist: 0.16, MRR for artist: 0.249\n",
      "Precision at k10 for second degree artist: 0.232, MRR for second degree artist: 0.343\n"
     ]
    }
   ],
   "source": [
    "IR = torch.load('trained_models/wikiart/ResNet34_newsplit/TripletResNet_image_features_posrandom_negrandom_10_margin1/IR_metrics/metrics_val.pth')\n",
    "print_mean_metrics(IR)"
   ]
  },
  {
   "cell_type": "code",
   "execution_count": 45,
   "metadata": {},
   "outputs": [
    {
     "name": "stdout",
     "output_type": "stream",
     "text": [
      "Precision at k10 for artist: 0.182, MRR for artist: 0.259\n",
      "Precision at k10 for second degree artist: 0.259, MRR for second degree artist: 0.356\n"
     ]
    },
    {
     "data": {
      "text/plain": [
       "3896"
      ]
     },
     "execution_count": 45,
     "metadata": {},
     "output_type": "execute_result"
    }
   ],
   "source": [
    "IR = torch.load('trained_models/wikiart/ResNet34/TripletResNet_image_features_posrandom_negrandom_100_margin1/IR_metrics/metrics_val.pth')\n",
    "print_mean_metrics(IR)\n",
    "IR[\"retrieved_indexes\"].count()"
   ]
  },
  {
   "cell_type": "code",
   "execution_count": 46,
   "metadata": {},
   "outputs": [
    {
     "name": "stdout",
     "output_type": "stream",
     "text": [
      "Precision at k10 for artist: 0.14, MRR for artist: 0.227\n",
      "Precision at k10 for second degree artist: 0.205, MRR for second degree artist: 0.321\n"
     ]
    },
    {
     "data": {
      "text/plain": [
       "3896"
      ]
     },
     "execution_count": 46,
     "metadata": {},
     "output_type": "execute_result"
    }
   ],
   "source": [
    "IR = torch.load('trained_models/wikiart/ResNet34/TripletResNet_image_features_posrandom_negrandom_10_margin2/IR_metrics/metrics_val.pth')\n",
    "print_mean_metrics(IR)\n",
    "IR[\"retrieved_indexes\"].count()"
   ]
  },
  {
   "cell_type": "markdown",
   "metadata": {},
   "source": [
    "NEW SPLIT"
   ]
  },
  {
   "cell_type": "code",
   "execution_count": 9,
   "metadata": {},
   "outputs": [
    {
     "name": "stdout",
     "output_type": "stream",
     "text": [
      "Precision at k10 for artist: 0.09081671462353451, MRR for artist: 0.17586155179225196\n",
      "Precision at k10 for second degree artist: 0.15114251953296615, MRR for second degree artist: 0.273965619483703\n"
     ]
    }
   ],
   "source": [
    "baseline_image_features = torch.load('trained_models/wikiart/ResNet34_newsplit/baseline_IR_metrics/image_features.pth')\n",
    "print_mean_metrics(baseline_image_features)"
   ]
  },
  {
   "cell_type": "code",
   "execution_count": 8,
   "metadata": {},
   "outputs": [
    {
     "name": "stdout",
     "output_type": "stream",
     "text": [
      "Precision at k10 for artist: 0.15960739651260686, MRR for artist: 0.24855529117239078\n",
      "Precision at k10 for second degree artist: 0.2319212641093632, MRR for second degree artist: 0.3427187161415528\n"
     ]
    }
   ],
   "source": [
    "IR = torch.load('trained_models/wikiart/ResNet34_newsplit/TripletResNet_image_features_posrandom_negrandom_10_margin1/IR_metrics/metrics_val.pth')\n",
    "print_mean_metrics(IR)"
   ]
  },
  {
   "cell_type": "markdown",
   "metadata": {},
   "source": [
    "IMAGE TEXT"
   ]
  },
  {
   "cell_type": "code",
   "execution_count": 16,
   "metadata": {},
   "outputs": [
    {
     "name": "stdout",
     "output_type": "stream",
     "text": [
      "Precision at k10 for artist: 0.0454177015532542, MRR for artist: 0.10915260853476741\n",
      "Precision at k10 for second degree artist: 0.07950814155401931, MRR for second degree artist: 0.175735971321347\n"
     ]
    }
   ],
   "source": [
    "baseline_image_text_features = torch.load('trained_models/wikiart/ResNet34/baseline_IR_metrics/image_text_features.pth')\n",
    "print_mean_metrics(baseline_image_text_features)"
   ]
  },
  {
   "cell_type": "code",
   "execution_count": 19,
   "metadata": {},
   "outputs": [
    {
     "name": "stdout",
     "output_type": "stream",
     "text": [
      "Precision at k10 for artist: 0.2761984239001457, MRR for artist: 0.3642479648277274\n",
      "Precision at k10 for second degree artist: 0.33169840468374284, MRR for second degree artist: 0.41180225660817443\n"
     ]
    }
   ],
   "source": [
    "IR = torch.load('trained_models/wikiart/ResNet34/TripletResNet_image_text_features_posrandom_negrandom/IR_metrics/metrics_val.pth')\n",
    "print_mean_metrics(IR)"
   ]
  },
  {
   "cell_type": "markdown",
   "metadata": {},
   "source": [
    "TEXT"
   ]
  },
  {
   "cell_type": "code",
   "execution_count": 2,
   "metadata": {},
   "outputs": [
    {
     "name": "stdout",
     "output_type": "stream",
     "text": [
      "Precision at k10 for artist: 0.037223533047094054, MRR for artist: 0.09596899901397028\n",
      "Precision at k10 for second degree artist: 0.07363435649042731, MRR for second degree artist: 0.16441877933654173\n",
      "----------\n",
      "Precision at k10 for artist: 0.21381878698139536, MRR for artist: 0.2964709235152587\n",
      "Precision at k10 for second degree artist: 0.25444093350551983, MRR for second degree artist: 0.33564071729814676\n"
     ]
    }
   ],
   "source": [
    "baseline_image_text_features = torch.load('trained_models/wikiart/ResNet34/baseline_IR_metrics/text_features.pth')\n",
    "print_mean_metrics(baseline_image_text_features)\n",
    "print('----------')\n",
    "IR = torch.load('trained_models/wikiart/ResNet34/TripletResNet_text_features_posrandom_negrandom/IR_metrics/metrics_val.pth')\n",
    "print_mean_metrics(IR)\n",
    "\n"
   ]
  },
  {
   "cell_type": "markdown",
   "metadata": {},
   "source": [
    "ARTISTS\n"
   ]
  },
  {
   "cell_type": "code",
   "execution_count": 41,
   "metadata": {},
   "outputs": [
    {
     "name": "stdout",
     "output_type": "stream",
     "text": [
      "Precision at k10 for artist: 0.313, MRR for artist: 0.488\n",
      "Precision at k10 for second degree artist: 0.322, MRR for second degree artist: 0.501\n",
      "----------\n",
      "Precision at k10 for artist: 0.45, MRR for artist: 0.613\n",
      "Precision at k10 for second degree artist: 0.455, MRR for second degree artist: 0.62\n"
     ]
    }
   ],
   "source": [
    "baseline_image_text_features = torch.load('trained_models/wikiart/Artists/baseline_IR_metrics/paul-gauguin_image_features.pth')\n",
    "print_mean_metrics(baseline_image_text_features)\n",
    "print('----------')\n",
    "IR = torch.load('trained_models/wikiart/Artists/paul-gauguin_TripletResNet_image_features_posrandom_negrandom_10_margin2/IR_metrics/metrics_val.pth')\n",
    "print_mean_metrics(IR)"
   ]
  },
  {
   "cell_type": "code",
   "execution_count": 42,
   "metadata": {},
   "outputs": [
    {
     "data": {
      "text/plain": [
       "392"
      ]
     },
     "execution_count": 42,
     "metadata": {},
     "output_type": "execute_result"
    }
   ],
   "source": [
    "len(baseline_image_text_features['retrieved_indexes'])"
   ]
  },
  {
   "cell_type": "markdown",
   "metadata": {},
   "source": [
    "FASHION"
   ]
  },
  {
   "cell_type": "code",
   "execution_count": 11,
   "metadata": {},
   "outputs": [],
   "source": [
    "\n",
    "baseline_image_features = torch.load('trained_models/fashion/ResNet34_newsplit/baseline_IR_metrics/image_features.pth')"
   ]
  },
  {
   "cell_type": "code",
   "execution_count": 22,
   "metadata": {},
   "outputs": [
    {
     "data": {
      "text/plain": [
       "['balmain',\n",
       " 'missoni',\n",
       " 'burberry',\n",
       " 'balenciaga',\n",
       " 'jason wu',\n",
       " 'lanvin',\n",
       " 'gucci',\n",
       " 'nina ricci']"
      ]
     },
     "execution_count": 22,
     "metadata": {},
     "output_type": "execute_result"
    }
   ],
   "source": [
    "import pandas as pd\n",
    "df = pd.read_pickle('DATA/Dataset/iDesigner/idesigner_influences_cropped_features.pkl')\n",
    "artists = set(df['artist_name'])\n",
    "artist_same_influencer = []\n",
    "for artist in artists:\n",
    "    if df[df['artist_name']==artist].reset_index().influenced_by[0][0] == artist and len(df[df['artist_name']==artist].reset_index().influenced_by[0])==1:\n",
    "        artist_same_influencer.append(artist)\n",
    "\n",
    "artist_same_influencer"
   ]
  },
  {
   "cell_type": "code",
   "execution_count": 31,
   "metadata": {},
   "outputs": [
    {
     "name": "stdout",
     "output_type": "stream",
     "text": [
      "Precision at k10 for artist: 0.052, MRR for artist: 0.122\n",
      "Precision at k10 for second degree artist: 0.092, MRR for second degree artist: 0.197\n"
     ]
    }
   ],
   "source": [
    "baseline_image_features['precision_at_k_artist']\n",
    "\n",
    "def remove_artist_same_influencer(My_dict, artist_same_influencer):\n",
    "    name_dicts = ['precision_at_k_artist','mrr_artist', 'precision_at_k_artist_second_degree', 'mrr_artist_second_degree']\n",
    "    for name in name_dicts:\n",
    "        for key in artist_same_influencer:\n",
    "            My_dict[name].pop(key, None)\n",
    "\n",
    "\n",
    "#remove_artist_same_influencer(baseline_image_features,artist_same_influencer)\n",
    "print_mean_metrics(baseline_image_features)"
   ]
  },
  {
   "cell_type": "code",
   "execution_count": 4,
   "metadata": {},
   "outputs": [
    {
     "name": "stdout",
     "output_type": "stream",
     "text": [
      "Precision at k10 for artist: 0.162, MRR for artist: 0.244\n",
      "Precision at k10 for second degree artist: 0.185, MRR for second degree artist: 0.275\n"
     ]
    }
   ],
   "source": [
    "\n",
    "IR = torch.load('trained_models/fashion/ResNet34_newsplit/TripletResNet_image_features_posrandom_negrandom_100_margin1/IR_metrics/metrics_val.pth')\n",
    "#remove_artist_same_influencer(IR,artist_same_influencer)\n",
    "print_mean_metrics(IR)"
   ]
  },
  {
   "cell_type": "code",
   "execution_count": null,
   "metadata": {},
   "outputs": [],
   "source": []
  },
  {
   "cell_type": "code",
   "execution_count": 3,
   "metadata": {},
   "outputs": [
    {
     "name": "stdout",
     "output_type": "stream",
     "text": [
      "Precision at k10 for artist: 0.063, MRR for artist: 0.167\n",
      "Precision at k10 for second degree artist: 0.072, MRR for second degree artist: 0.188\n"
     ]
    }
   ],
   "source": [
    "IR = torch.load('trained_models/fashion/ResNet34_newsplit/TripletResNet_image_features_posfaiss_negrandom_10_margin1/IR_metrics/metrics_val.pth')\n",
    "#remove_artist_same_influencer(IR,artist_same_influencer)\n",
    "print_mean_metrics(IR)"
   ]
  },
  {
   "cell_type": "code",
   "execution_count": 35,
   "metadata": {},
   "outputs": [
    {
     "name": "stdout",
     "output_type": "stream",
     "text": [
      "Precision at k10 for artist: 0.162, MRR for artist: 0.244\n",
      "Precision at k10 for second degree artist: 0.185, MRR for second degree artist: 0.275\n"
     ]
    }
   ],
   "source": [
    "\n",
    "IR = torch.load('trained_models/fashion/ResNet34_newsplit/TripletResNet_image_features_posrandom_negrandom_100_margin1/IR_metrics/metrics_val.pth')\n",
    "#remove_artist_same_influencer(IR,artist_same_influencer)\n",
    "print_mean_metrics(IR)"
   ]
  }
 ],
 "metadata": {
  "kernelspec": {
   "display_name": "artsagenet",
   "language": "python",
   "name": "python3"
  },
  "language_info": {
   "codemirror_mode": {
    "name": "ipython",
    "version": 3
   },
   "file_extension": ".py",
   "mimetype": "text/x-python",
   "name": "python",
   "nbconvert_exporter": "python",
   "pygments_lexer": "ipython3",
   "version": "3.11.7"
  }
 },
 "nbformat": 4,
 "nbformat_minor": 2
}
