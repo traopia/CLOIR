{
 "cells": [
  {
   "cell_type": "code",
   "execution_count": 5,
   "metadata": {},
   "outputs": [],
   "source": [
    "import torch\n",
    "import pandas as pd\n",
    "import numpy as np\n",
    "from scipy.stats import pearsonr\n",
    "\n",
    "def print_mean_metrics(IR):\n",
    "        print(f'Precision at k10 for artist: {round(np.mean(list(IR[\"precision_at_k_artist\"].values())),3)}, MRR for artist: {round(np.mean(list(IR[\"mrr_artist\"].values())),3)}')\n",
    "        print(f'Precision at k10 for second degree artist: {round(np.mean(list(IR[\"precision_at_k_artist_second_degree\"].values())),3)}, MRR for second degree artist: {round(np.mean(list(IR[\"mrr_artist_second_degree\"].values())),3)}')\n",
    "\n",
    "\n",
    "def metrics(IR):\n",
    "        print(f'Precision at k10 for artist: {IR[\"precision_at_k_sum\"]}, MRR for artist: {IR[\"mrr_sum\"]}')\n",
    "        print(f'Precision at k10 for second degree artist: {IR[\"precision_at_k_second_degree_sum\"]}, MRR for second degree artist: {IR[\"mrr_second_degree_sum\"]}')\n",
    "\n",
    "def correlation_number_positive_precision(dict_len_positive, dict_precision):\n",
    "        values1 = [dict_len_positive[key] for key in dict_len_positive]\n",
    "        values2 = [dict_precision[key] for key in dict_precision]\n",
    "\n",
    "        # Calculate Pearson correlation coefficient\n",
    "        correlation, _ = pearsonr(values1, values2)\n",
    "        return correlation"
   ]
  },
  {
   "cell_type": "code",
   "execution_count": 7,
   "metadata": {},
   "outputs": [
    {
     "data": {
      "text/plain": [
       "{'adriaen-brouwer': 176,\n",
       " 'adriaen-van-ostade': 176,\n",
       " 'albrecht-durer': 146,\n",
       " 'alfred-sisley': 1261,\n",
       " 'alphonse-mucha': 188,\n",
       " 'amedeo-modigliani': 1690,\n",
       " 'anders-zorn': 777,\n",
       " 'andrea-mantegna': 777,\n",
       " 'andy-warhol': 111,\n",
       " 'anna-ostroumova-lebedeva': 539,\n",
       " 'annibale-carracci': 440,\n",
       " 'anthony-van-dyck': 782,\n",
       " 'arshile-gorky': 745,\n",
       " 'aubrey-beardsley': 366,\n",
       " 'auguste-rodin': 777,\n",
       " 'bartolome-esteban-murillo': 135,\n",
       " 'berthe-morisot': 227,\n",
       " 'boris-kustodiev': 539,\n",
       " 'camille-corot': 592,\n",
       " 'camille-pissarro': 480,\n",
       " 'caravaggio': 254,\n",
       " 'chaim-soutine': 2487,\n",
       " 'charles-francois-daubigny': 745,\n",
       " 'childe-hassam': 3262,\n",
       " 'claude-monet': 1984,\n",
       " 'dante-gabriel-rossetti': 47,\n",
       " 'david-burliuk': 755,\n",
       " 'diego-velazquez': 331,\n",
       " 'edgar-degas': 822,\n",
       " 'edouard-manet': 1006,\n",
       " 'edvard-munch': 2814,\n",
       " 'edward-burne-jones': 188,\n",
       " 'edward-hopper': 2029,\n",
       " 'egon-schiele': 2125,\n",
       " 'el-greco': 254,\n",
       " 'ellsworth-kelly': 368,\n",
       " 'eric-fischl': 258,\n",
       " 'ernst-ludwig-kirchner': 170,\n",
       " 'eugene-boudin': 265,\n",
       " 'eugene-delacroix': 1854,\n",
       " 'ferdinand-hodler': 415,\n",
       " 'fernand-leger': 1070,\n",
       " 'fernando-botero': 510,\n",
       " 'filipp-malyavin': 539,\n",
       " 'ford-madox-brown': 150,\n",
       " 'francisco-goya': 963,\n",
       " 'frank-auerbach': 777,\n",
       " 'frank-stella': 445,\n",
       " 'frans-hals': 550,\n",
       " 'frans-snyders': 378,\n",
       " 'franz-marc': 2222,\n",
       " 'gene-davis': 173,\n",
       " 'george-luks': 306,\n",
       " 'georges-braque': 1324,\n",
       " 'georges-seurat': 155,\n",
       " 'gerard-terborch': 135,\n",
       " 'gerrit-dou': 777,\n",
       " 'giovanni-battista-tiepolo': 1005,\n",
       " 'giovanni-boldini': 254,\n",
       " 'giovanni-domenico-tiepolo': 126,\n",
       " 'guido-reni': 340,\n",
       " 'gustave-caillebotte': 465,\n",
       " 'gustave-courbet': 1578,\n",
       " 'gustave-dore': 265,\n",
       " 'gustave-loiseau': 1446,\n",
       " 'guy-rose': 1334,\n",
       " 'hans-holbein-the-younger': 146,\n",
       " 'helen-frankenthaler': 164,\n",
       " 'henri-de-toulouse-lautrec': 611,\n",
       " 'henri-edmond-cross': 2486,\n",
       " 'henri-fantin-latour': 777,\n",
       " 'henri-matisse': 2035,\n",
       " 'ilya-mashkov': 1070,\n",
       " 'ilya-repin': 1560,\n",
       " 'ivan-aivazovsky': 114,\n",
       " 'ivan-bilibin': 539,\n",
       " 'jackson-pollock': 1950,\n",
       " 'jacob-jordaens': 455,\n",
       " 'james-mcneill-whistler': 300,\n",
       " 'james-tissot': 978,\n",
       " 'jamie-wyeth': 116,\n",
       " 'jan-steen': 91,\n",
       " 'jean-metzinger': 128,\n",
       " 'joan-miro': 765,\n",
       " 'joaquã\\xadn-sorolla': 362,\n",
       " 'johannes-vermeer': 887,\n",
       " 'john-constable': 628,\n",
       " 'john-french-sloan': 306,\n",
       " 'john-henry-twachtman': 135,\n",
       " 'john-singer-sargent': 962,\n",
       " 'joshua-reynolds': 389,\n",
       " 'juan-gris': 1236,\n",
       " 'koloman-moser': 171,\n",
       " 'lovis-corinth': 1155,\n",
       " 'lucian-freud': 265,\n",
       " 'm-c-escher': 828,\n",
       " 'marc-chagall': 1742,\n",
       " 'mark-rothko': 580,\n",
       " 'martiros-sarian': 883,\n",
       " 'mary-cassatt': 2011,\n",
       " 'maurice-prendergast': 550,\n",
       " 'maurice-utrillo': 1152,\n",
       " 'max-beckmann': 170,\n",
       " 'max-pechstein': 2380,\n",
       " 'maxime-maufra': 1352,\n",
       " 'mikhail-vrubel': 539,\n",
       " 'moise-kisling': 765,\n",
       " 'morris-louis': 300,\n",
       " 'nicholas-roerich': 883,\n",
       " 'nikolay-bogdanov-belsky': 216,\n",
       " 'odilon-redon': 783,\n",
       " 'orest-kiprensky': 307,\n",
       " 'ossip-zadkine': 765,\n",
       " 'pablo-picasso': 5167,\n",
       " 'parmigianino': 828,\n",
       " 'paul-cezanne': 2077,\n",
       " 'paul-gauguin': 4444,\n",
       " 'paul-klee': 1031,\n",
       " 'paula-modersohn-becker': 2281,\n",
       " 'peter-paul-rubens': 481,\n",
       " 'pierre-auguste-renoir': 3186,\n",
       " 'pierre-bonnard': 392,\n",
       " 'piet-mondrian': 3213,\n",
       " 'pyotr-konchalovsky': 579,\n",
       " 'raoul-dufy': 1334,\n",
       " 'raphael': 828,\n",
       " 'raphael-kirchner': 134,\n",
       " 'rembrandt': 709,\n",
       " 'richard-diebenkorn': 1379,\n",
       " 'roy-lichtenstein': 434,\n",
       " 'salvador-dali': 827,\n",
       " 'sam-francis': 81,\n",
       " 'tarsila-do-amaral': 258,\n",
       " 'theodore-gericault': 495,\n",
       " 'theodore-rousseau': 117,\n",
       " 'thomas-cole': 226,\n",
       " 'thomas-eakins': 777,\n",
       " 'thomas-gainsborough': 172,\n",
       " 'tintoretto': 254,\n",
       " 'titian': 1014,\n",
       " 'valentin-serov': 539,\n",
       " 'vasily-perov': 227,\n",
       " 'vasily-polenov': 1451,\n",
       " 'vasily-surikov': 539,\n",
       " 'vincent-van-gogh': 2591,\n",
       " 'walter-sickert': 611,\n",
       " 'wassily-kandinsky': 2083,\n",
       " 'willard-metcalf': 550,\n",
       " 'willem-de-kooning': 862,\n",
       " 'william-james-glackens': 306,\n",
       " 'william-merritt-chase': 135,\n",
       " 'william-turner': 777,\n",
       " 'winslow-homer': 1599,\n",
       " 'zinaida-serebriakova': 539}"
      ]
     },
     "execution_count": 7,
     "metadata": {},
     "output_type": "execute_result"
    }
   ],
   "source": [
    "df = pd.read_pickle('DATA/Dataset/wikiart/wikiart_full_combined_no_artist_filtered.pkl')\n",
    "def get_dictionaries(df):\n",
    "    dict_influenced_by = df.groupby('artist_name')['influenced_by'].first().to_dict()\n",
    "    artist_to_paintings = {}\n",
    "    for index, row in df.iterrows():\n",
    "        artist = row['artist_name']\n",
    "        artist_to_paintings.setdefault(artist, []).append(index)\n",
    "    artist_to_influencer_paintings = {artist: [painting for influencer in influencers if influencer in artist_to_paintings for painting in artist_to_paintings[influencer]] for artist, influencers in dict_influenced_by.items()}\n",
    "    artist_to_influencer_paintings_len = {key: len(value) for key, value in artist_to_influencer_paintings.items()}\n",
    "    return artist_to_influencer_paintings, artist_to_paintings, dict_influenced_by, artist_to_influencer_paintings_len\n",
    "\n",
    "\n",
    "\n",
    "artist_to_influencer_paintings, artist_to_paintings, dict_influenced_by, artist_to_influencer_paintings_len = get_dictionaries(df)\n",
    "artist_to_influencer_paintings_len\n",
    "dict(sorted(artist_to_influencer_paintings_len.items(), key=lambda x:x[1]))"
   ]
  },
  {
   "cell_type": "code",
   "execution_count": 12,
   "metadata": {},
   "outputs": [
    {
     "data": {
      "text/plain": [
       "{'dante-gabriel-rossetti': 47,\n",
       " 'sam-francis': 81,\n",
       " 'jan-steen': 91,\n",
       " 'andy-warhol': 111,\n",
       " 'ivan-aivazovsky': 114,\n",
       " 'jamie-wyeth': 116,\n",
       " 'theodore-rousseau': 117,\n",
       " 'giovanni-domenico-tiepolo': 126,\n",
       " 'jean-metzinger': 128,\n",
       " 'raphael-kirchner': 134,\n",
       " 'bartolome-esteban-murillo': 135,\n",
       " 'gerard-terborch': 135,\n",
       " 'john-henry-twachtman': 135,\n",
       " 'william-merritt-chase': 135,\n",
       " 'albrecht-durer': 146,\n",
       " 'hans-holbein-the-younger': 146,\n",
       " 'ford-madox-brown': 150,\n",
       " 'georges-seurat': 155,\n",
       " 'helen-frankenthaler': 164,\n",
       " 'ernst-ludwig-kirchner': 170,\n",
       " 'max-beckmann': 170,\n",
       " 'koloman-moser': 171,\n",
       " 'thomas-gainsborough': 172,\n",
       " 'gene-davis': 173,\n",
       " 'adriaen-brouwer': 176,\n",
       " 'adriaen-van-ostade': 176,\n",
       " 'alphonse-mucha': 188,\n",
       " 'edward-burne-jones': 188,\n",
       " 'nikolay-bogdanov-belsky': 216,\n",
       " 'thomas-cole': 226,\n",
       " 'berthe-morisot': 227,\n",
       " 'vasily-perov': 227,\n",
       " 'caravaggio': 254,\n",
       " 'el-greco': 254,\n",
       " 'giovanni-boldini': 254,\n",
       " 'tintoretto': 254,\n",
       " 'eric-fischl': 258,\n",
       " 'tarsila-do-amaral': 258,\n",
       " 'eugene-boudin': 265,\n",
       " 'gustave-dore': 265,\n",
       " 'lucian-freud': 265,\n",
       " 'james-mcneill-whistler': 300,\n",
       " 'morris-louis': 300,\n",
       " 'george-luks': 306,\n",
       " 'john-french-sloan': 306,\n",
       " 'william-james-glackens': 306,\n",
       " 'orest-kiprensky': 307,\n",
       " 'diego-velazquez': 331,\n",
       " 'guido-reni': 340,\n",
       " 'joaquã\\xadn-sorolla': 362,\n",
       " 'aubrey-beardsley': 366,\n",
       " 'ellsworth-kelly': 368,\n",
       " 'frans-snyders': 378,\n",
       " 'joshua-reynolds': 389,\n",
       " 'pierre-bonnard': 392,\n",
       " 'ferdinand-hodler': 415,\n",
       " 'roy-lichtenstein': 434,\n",
       " 'annibale-carracci': 440,\n",
       " 'frank-stella': 445,\n",
       " 'jacob-jordaens': 455,\n",
       " 'gustave-caillebotte': 465,\n",
       " 'camille-pissarro': 480,\n",
       " 'peter-paul-rubens': 481,\n",
       " 'theodore-gericault': 495,\n",
       " 'fernando-botero': 510,\n",
       " 'anna-ostroumova-lebedeva': 539,\n",
       " 'boris-kustodiev': 539,\n",
       " 'filipp-malyavin': 539,\n",
       " 'ivan-bilibin': 539,\n",
       " 'mikhail-vrubel': 539,\n",
       " 'valentin-serov': 539,\n",
       " 'vasily-surikov': 539,\n",
       " 'zinaida-serebriakova': 539,\n",
       " 'frans-hals': 550,\n",
       " 'maurice-prendergast': 550,\n",
       " 'willard-metcalf': 550,\n",
       " 'pyotr-konchalovsky': 579,\n",
       " 'mark-rothko': 580,\n",
       " 'camille-corot': 592,\n",
       " 'henri-de-toulouse-lautrec': 611,\n",
       " 'walter-sickert': 611,\n",
       " 'john-constable': 628,\n",
       " 'rembrandt': 709,\n",
       " 'arshile-gorky': 745,\n",
       " 'charles-francois-daubigny': 745,\n",
       " 'david-burliuk': 755,\n",
       " 'joan-miro': 765,\n",
       " 'moise-kisling': 765,\n",
       " 'ossip-zadkine': 765,\n",
       " 'anders-zorn': 777,\n",
       " 'andrea-mantegna': 777,\n",
       " 'auguste-rodin': 777,\n",
       " 'frank-auerbach': 777,\n",
       " 'gerrit-dou': 777,\n",
       " 'henri-fantin-latour': 777,\n",
       " 'thomas-eakins': 777,\n",
       " 'william-turner': 777,\n",
       " 'anthony-van-dyck': 782,\n",
       " 'odilon-redon': 783,\n",
       " 'edgar-degas': 822,\n",
       " 'salvador-dali': 827,\n",
       " 'm-c-escher': 828,\n",
       " 'parmigianino': 828,\n",
       " 'raphael': 828,\n",
       " 'willem-de-kooning': 862,\n",
       " 'martiros-sarian': 883,\n",
       " 'nicholas-roerich': 883,\n",
       " 'johannes-vermeer': 887,\n",
       " 'john-singer-sargent': 962,\n",
       " 'francisco-goya': 963,\n",
       " 'james-tissot': 978,\n",
       " 'giovanni-battista-tiepolo': 1005,\n",
       " 'edouard-manet': 1006,\n",
       " 'titian': 1014,\n",
       " 'paul-klee': 1031,\n",
       " 'fernand-leger': 1070,\n",
       " 'ilya-mashkov': 1070,\n",
       " 'maurice-utrillo': 1152,\n",
       " 'lovis-corinth': 1155,\n",
       " 'juan-gris': 1236,\n",
       " 'alfred-sisley': 1261,\n",
       " 'georges-braque': 1324,\n",
       " 'guy-rose': 1334,\n",
       " 'raoul-dufy': 1334,\n",
       " 'maxime-maufra': 1352,\n",
       " 'richard-diebenkorn': 1379,\n",
       " 'gustave-loiseau': 1446,\n",
       " 'vasily-polenov': 1451,\n",
       " 'ilya-repin': 1560,\n",
       " 'gustave-courbet': 1578,\n",
       " 'winslow-homer': 1599,\n",
       " 'amedeo-modigliani': 1690,\n",
       " 'marc-chagall': 1742,\n",
       " 'eugene-delacroix': 1854,\n",
       " 'jackson-pollock': 1950,\n",
       " 'claude-monet': 1984,\n",
       " 'mary-cassatt': 2011,\n",
       " 'edward-hopper': 2029,\n",
       " 'henri-matisse': 2035,\n",
       " 'paul-cezanne': 2077,\n",
       " 'wassily-kandinsky': 2083,\n",
       " 'egon-schiele': 2125,\n",
       " 'franz-marc': 2222,\n",
       " 'paula-modersohn-becker': 2281,\n",
       " 'max-pechstein': 2380,\n",
       " 'henri-edmond-cross': 2486,\n",
       " 'chaim-soutine': 2487,\n",
       " 'vincent-van-gogh': 2591,\n",
       " 'edvard-munch': 2814,\n",
       " 'pierre-auguste-renoir': 3186,\n",
       " 'piet-mondrian': 3213,\n",
       " 'childe-hassam': 3262,\n",
       " 'paul-gauguin': 4444,\n",
       " 'pablo-picasso': 5167}"
      ]
     },
     "execution_count": 12,
     "metadata": {},
     "output_type": "execute_result"
    }
   ],
   "source": [
    "dict(sorted(artist_to_influencer_paintings_len.items(), key=lambda x:x[1]))"
   ]
  },
  {
   "cell_type": "code",
   "execution_count": 16,
   "metadata": {},
   "outputs": [
    {
     "data": {
      "text/plain": [
       "2011"
      ]
     },
     "execution_count": 16,
     "metadata": {},
     "output_type": "execute_result"
    }
   ],
   "source": [
    "artist_to_influencer_paintings_len['mary-cassatt']"
   ]
  },
  {
   "cell_type": "code",
   "execution_count": 11,
   "metadata": {},
   "outputs": [
    {
     "name": "stdout",
     "output_type": "stream",
     "text": [
      "Precision at k10 for artist: 0.136, MRR for artist: 0.232\n",
      "Precision at k10 for second degree artist: 0.188, MRR for second degree artist: 0.301\n"
     ]
    },
    {
     "data": {
      "text/plain": [
       "{'adriaen-brouwer': 0.0,\n",
       " 'johannes-vermeer': 0.0,\n",
       " 'george-luks': 0.006,\n",
       " 'ferdinand-hodler': 0.01,\n",
       " 'vasily-perov': 0.011,\n",
       " 'john-french-sloan': 0.012,\n",
       " 'mark-rothko': 0.013,\n",
       " 'adriaen-van-ostade': 0.014,\n",
       " 'giovanni-boldini': 0.015,\n",
       " 'georges-seurat': 0.016,\n",
       " 'bartolome-esteban-murillo': 0.019,\n",
       " 'auguste-rodin': 0.021,\n",
       " 'koloman-moser': 0.022,\n",
       " 'ivan-bilibin': 0.023,\n",
       " 'william-james-glackens': 0.023,\n",
       " 'jean-metzinger': 0.027,\n",
       " 'raoul-dufy': 0.027,\n",
       " 'orest-kiprensky': 0.028,\n",
       " 'frank-auerbach': 0.029,\n",
       " 'nikolay-bogdanov-belsky': 0.03,\n",
       " 'lovis-corinth': 0.031,\n",
       " 'berthe-morisot': 0.032,\n",
       " 'gerard-terborch': 0.033,\n",
       " 'david-burliuk': 0.034,\n",
       " 'aubrey-beardsley': 0.036,\n",
       " 'fernando-botero': 0.036,\n",
       " 'jamie-wyeth': 0.038,\n",
       " 'joaquã\\xadn-sorolla': 0.038,\n",
       " 'john-henry-twachtman': 0.039,\n",
       " 'walter-sickert': 0.042,\n",
       " 'anders-zorn': 0.045,\n",
       " 'moise-kisling': 0.048,\n",
       " 'pierre-bonnard': 0.048,\n",
       " 'william-merritt-chase': 0.048,\n",
       " 'andrea-mantegna': 0.061,\n",
       " 'john-constable': 0.061,\n",
       " 'anna-ostroumova-lebedeva': 0.062,\n",
       " 'lucian-freud': 0.062,\n",
       " 'filipp-malyavin': 0.064,\n",
       " 'james-mcneill-whistler': 0.068,\n",
       " 'joan-miro': 0.068,\n",
       " 'theodore-rousseau': 0.068,\n",
       " 'zinaida-serebriakova': 0.07,\n",
       " 'ernst-ludwig-kirchner': 0.071,\n",
       " 'theodore-gericault': 0.071,\n",
       " 'mikhail-vrubel': 0.074,\n",
       " 'william-turner': 0.074,\n",
       " 'eugene-boudin': 0.077,\n",
       " 'edgar-degas': 0.078,\n",
       " 'gene-davis': 0.078,\n",
       " 'max-beckmann': 0.078,\n",
       " 'boris-kustodiev': 0.082,\n",
       " 'thomas-gainsborough': 0.083,\n",
       " 'paul-cezanne': 0.084,\n",
       " 'willem-de-kooning': 0.084,\n",
       " 'parmigianino': 0.086,\n",
       " 'willard-metcalf': 0.086,\n",
       " 'james-tissot': 0.087,\n",
       " 'el-greco': 0.088,\n",
       " 'henri-matisse': 0.088,\n",
       " 'joshua-reynolds': 0.095,\n",
       " 'raphael': 0.095,\n",
       " 'vasily-polenov': 0.095,\n",
       " 'gustave-caillebotte': 0.097,\n",
       " 'gustave-dore': 0.099,\n",
       " 'salvador-dali': 0.099,\n",
       " 'dante-gabriel-rossetti': 0.1,\n",
       " 'franz-marc': 0.1,\n",
       " 'thomas-cole': 0.1,\n",
       " 'john-singer-sargent': 0.101,\n",
       " 'martiros-sarian': 0.102,\n",
       " 'annibale-carracci': 0.104,\n",
       " 'nicholas-roerich': 0.105,\n",
       " 'vasily-surikov': 0.105,\n",
       " 'wassily-kandinsky': 0.105,\n",
       " 'henri-de-toulouse-lautrec': 0.107,\n",
       " 'thomas-eakins': 0.109,\n",
       " 'tintoretto': 0.116,\n",
       " 'egon-schiele': 0.118,\n",
       " 'maxime-maufra': 0.119,\n",
       " 'ford-madox-brown': 0.12,\n",
       " 'hans-holbein-the-younger': 0.124,\n",
       " 'giovanni-battista-tiepolo': 0.126,\n",
       " 'edward-hopper': 0.128,\n",
       " 'frans-snyders': 0.128,\n",
       " 'gustave-courbet': 0.128,\n",
       " 'henri-fantin-latour': 0.128,\n",
       " 'fernand-leger': 0.129,\n",
       " 'max-pechstein': 0.129,\n",
       " 'titian': 0.13,\n",
       " 'edvard-munch': 0.133,\n",
       " 'pyotr-konchalovsky': 0.138,\n",
       " 'caravaggio': 0.142,\n",
       " 'paula-modersohn-becker': 0.142,\n",
       " 'guido-reni': 0.143,\n",
       " 'camille-pissarro': 0.144,\n",
       " 'peter-paul-rubens': 0.145,\n",
       " 'alfred-sisley': 0.146,\n",
       " 'albrecht-durer': 0.15,\n",
       " 'alphonse-mucha': 0.151,\n",
       " 'piet-mondrian': 0.16,\n",
       " 'helen-frankenthaler': 0.162,\n",
       " 'francisco-goya': 0.165,\n",
       " 'gerrit-dou': 0.167,\n",
       " 'maurice-utrillo': 0.167,\n",
       " 'ossip-zadkine': 0.169,\n",
       " 'rembrandt': 0.169,\n",
       " 'frans-hals': 0.172,\n",
       " 'jackson-pollock': 0.172,\n",
       " 'anthony-van-dyck': 0.173,\n",
       " 'valentin-serov': 0.174,\n",
       " 'camille-corot': 0.175,\n",
       " 'morris-louis': 0.176,\n",
       " 'jan-steen': 0.182,\n",
       " 'paul-klee': 0.184,\n",
       " 'edouard-manet': 0.188,\n",
       " 'm-c-escher': 0.192,\n",
       " 'arshile-gorky': 0.193,\n",
       " 'winslow-homer': 0.194,\n",
       " 'ilya-repin': 0.198,\n",
       " 'andy-warhol': 0.2,\n",
       " 'diego-velazquez': 0.205,\n",
       " 'gustave-loiseau': 0.208,\n",
       " 'guy-rose': 0.208,\n",
       " 'vincent-van-gogh': 0.21,\n",
       " 'edward-burne-jones': 0.217,\n",
       " 'frank-stella': 0.224,\n",
       " 'ivan-aivazovsky': 0.224,\n",
       " 'claude-monet': 0.225,\n",
       " 'eric-fischl': 0.239,\n",
       " 'chaim-soutine': 0.24,\n",
       " 'henri-edmond-cross': 0.241,\n",
       " 'ilya-mashkov': 0.247,\n",
       " 'maurice-prendergast': 0.26,\n",
       " 'odilon-redon': 0.261,\n",
       " 'richard-diebenkorn': 0.261,\n",
       " 'charles-francois-daubigny': 0.279,\n",
       " 'jacob-jordaens': 0.285,\n",
       " 'pierre-auguste-renoir': 0.295,\n",
       " 'amedeo-modigliani': 0.303,\n",
       " 'marc-chagall': 0.303,\n",
       " 'giovanni-domenico-tiepolo': 0.311,\n",
       " 'childe-hassam': 0.314,\n",
       " 'eugene-delacroix': 0.315,\n",
       " 'tarsila-do-amaral': 0.315,\n",
       " 'ellsworth-kelly': 0.318,\n",
       " 'sam-francis': 0.324,\n",
       " 'paul-gauguin': 0.325,\n",
       " 'pablo-picasso': 0.334,\n",
       " 'roy-lichtenstein': 0.346,\n",
       " 'georges-braque': 0.363,\n",
       " 'juan-gris': 0.429,\n",
       " 'mary-cassatt': 0.497,\n",
       " 'raphael-kirchner': 0.534}"
      ]
     },
     "execution_count": 11,
     "metadata": {},
     "output_type": "execute_result"
    }
   ],
   "source": [
    "IR_metrics = torch.load('trained_models/wikiart/ResNet34_newsplit/TripletResNet_image_features_posfaiss_negrandom_100_margin1_notrans_epoch_30/IR_metrics/metrics_val.pth')\n",
    "metrics(IR_metrics)\n",
    "#IR_metrics['mrr_artist']['andy-warhol']\n",
    "IR_metrics['precision_at_k_artist']\n",
    "dict(sorted(IR_metrics['precision_at_k_artist'].items(), key=lambda x:x[1]))"
   ]
  },
  {
   "cell_type": "markdown",
   "metadata": {},
   "source": [
    "WIKIART DATASET "
   ]
  },
  {
   "cell_type": "code",
   "execution_count": 11,
   "metadata": {},
   "outputs": [
    {
     "name": "stdout",
     "output_type": "stream",
     "text": [
      "Precision at k10 for artist: 0.087, MRR for artist: 0.172\n",
      "Precision at k10 for second degree artist: 0.154, MRR for second degree artist: 0.285\n"
     ]
    }
   ],
   "source": [
    "#baseline\n",
    "baseline_image_features = torch.load('trained_models/wikiart/random_artists/baseline_IR_metrics/image_text_features_val.pth')\n",
    "print_mean_metrics(baseline_image_features)"
   ]
  },
  {
   "cell_type": "code",
   "execution_count": 15,
   "metadata": {},
   "outputs": [
    {
     "name": "stdout",
     "output_type": "stream",
     "text": [
      "Precision at k10 for artist: 0.098, MRR for artist: 0.17\n",
      "Precision at k10 for second degree artist: 0.135, MRR for second degree artist: 0.215\n"
     ]
    },
    {
     "data": {
      "text/plain": [
       "{'adriaen-brouwer': 0.014285714285714287,\n",
       " 'adriaen-van-ostade': 0.1,\n",
       " 'albrecht-durer': 0.4247311827956988,\n",
       " 'alfred-sisley': 0.0325,\n",
       " 'alphonse-mucha': 0.018181818181818184,\n",
       " 'amedeo-modigliani': 0.2666666666666667,\n",
       " 'anders-zorn': 0.0,\n",
       " 'andrea-mantegna': 0.02727272727272728,\n",
       " 'andy-warhol': 0.14375000000000002,\n",
       " 'anna-ostroumova-lebedeva': 0.0,\n",
       " 'annibale-carracci': 0.044444444444444446,\n",
       " 'anthony-van-dyck': 0.2909090909090909,\n",
       " 'arshile-gorky': 0.1,\n",
       " 'aubrey-beardsley': 0.4100000000000001,\n",
       " 'auguste-rodin': 0.0,\n",
       " 'bartolome-esteban-murillo': 0.06,\n",
       " 'berthe-morisot': 0.09583333333333333,\n",
       " 'boris-kustodiev': 0.075,\n",
       " 'camille-corot': 0.28888888888888886,\n",
       " 'camille-pissarro': 0.029629629629629627,\n",
       " 'caravaggio': 0.13333333333333333,\n",
       " 'chaim-soutine': 0.0,\n",
       " 'charles-francois-daubigny': 0.30999999999999994,\n",
       " 'childe-hassam': 0.10000000000000002,\n",
       " 'claude-monet': 0.30859375,\n",
       " 'dante-gabriel-rossetti': 0.06428571428571428,\n",
       " 'david-burliuk': 0.011428571428571429,\n",
       " 'diego-velazquez': 0.05625,\n",
       " 'edgar-degas': 0.1606060606060606,\n",
       " 'edouard-manet': 0.056521739130434796,\n",
       " 'edvard-munch': 0.3875,\n",
       " 'edward-burne-jones': 0.24444444444444446,\n",
       " 'edward-hopper': 0.10833333333333335,\n",
       " 'egon-schiele': 0.08787878787878789,\n",
       " 'el-greco': 0.12666666666666668,\n",
       " 'ellsworth-kelly': 0.25,\n",
       " 'eric-fischl': 0.05,\n",
       " 'ernst-ludwig-kirchner': 0.02368421052631579,\n",
       " 'eugene-boudin': 0.04489795918367347,\n",
       " 'eugene-delacroix': 0.3733333333333333,\n",
       " 'ferdinand-hodler': 0.01,\n",
       " 'fernand-leger': 0.011627906976744186,\n",
       " 'fernando-botero': 0.0071428571428571435,\n",
       " 'filipp-malyavin': 0.0,\n",
       " 'ford-madox-brown': 0.0,\n",
       " 'francisco-goya': 0.024324324324324326,\n",
       " 'frank-auerbach': 0.0,\n",
       " 'frank-stella': 0.10000000000000002,\n",
       " 'frans-hals': 0.3450000000000001,\n",
       " 'frans-snyders': 0.18,\n",
       " 'franz-marc': 0.06363636363636364,\n",
       " 'gene-davis': 0.0,\n",
       " 'george-luks': 0.02,\n",
       " 'georges-braque': 0.17500000000000004,\n",
       " 'georges-seurat': 0.01,\n",
       " 'gerard-terborch': 0.0,\n",
       " 'gerrit-dou': 0.05,\n",
       " 'giovanni-battista-tiepolo': 0.011111111111111112,\n",
       " 'giovanni-boldini': 0.0,\n",
       " 'giovanni-domenico-tiepolo': 0.175,\n",
       " 'guido-reni': 0.2266666666666667,\n",
       " 'gustave-caillebotte': 0.01578947368421053,\n",
       " 'gustave-courbet': 0.008333333333333333,\n",
       " 'gustave-dore': 0.004225352112676057,\n",
       " 'gustave-loiseau': 0.16086956521739132,\n",
       " 'guy-rose': 0.11000000000000001,\n",
       " 'hans-holbein-the-younger': 0.03333333333333333,\n",
       " 'helen-frankenthaler': 0.07857142857142858,\n",
       " 'henri-de-toulouse-lautrec': 0.032,\n",
       " 'henri-edmond-cross': 0.042105263157894736,\n",
       " 'henri-fantin-latour': 0.029411764705882353,\n",
       " 'henri-matisse': 0.04736842105263158,\n",
       " 'ilya-mashkov': 0.04736842105263158,\n",
       " 'ilya-repin': 0.09056603773584905,\n",
       " 'ivan-aivazovsky': 0.012307692307692308,\n",
       " 'ivan-bilibin': 0.0,\n",
       " 'jackson-pollock': 0.030000000000000006,\n",
       " 'jacob-jordaens': 0.11875,\n",
       " 'james-mcneill-whistler': 0.05454545454545456,\n",
       " 'james-tissot': 0.0,\n",
       " 'jamie-wyeth': 0.10909090909090909,\n",
       " 'jan-steen': 0.060000000000000005,\n",
       " 'jean-metzinger': 0.08,\n",
       " 'joan-miro': 0.022222222222222223,\n",
       " 'joaquã\\xadn-sorolla': 0.026470588235294114,\n",
       " 'johannes-vermeer': 0.0,\n",
       " 'john-constable': 0.042857142857142864,\n",
       " 'john-french-sloan': 0.037500000000000006,\n",
       " 'john-henry-twachtman': 0.026086956521739136,\n",
       " 'john-singer-sargent': 0.0014084507042253522,\n",
       " 'joshua-reynolds': 0.06190476190476191,\n",
       " 'juan-gris': 0.2434782608695652,\n",
       " 'koloman-moser': 0.0,\n",
       " 'lovis-corinth': 0.0,\n",
       " 'lucian-freud': 0.0,\n",
       " 'm-c-escher': 0.0,\n",
       " 'marc-chagall': 0.08153846153846152,\n",
       " 'mark-rothko': 0.0,\n",
       " 'martiros-sarian': 0.012244897959183673,\n",
       " 'mary-cassatt': 0.02333333333333333,\n",
       " 'maurice-prendergast': 0.33870967741935476,\n",
       " 'maurice-utrillo': 0.0,\n",
       " 'max-beckmann': 0.10000000000000002,\n",
       " 'max-pechstein': 0.0125,\n",
       " 'maxime-maufra': 0.028571428571428574,\n",
       " 'mikhail-vrubel': 0.04,\n",
       " 'moise-kisling': 0.0,\n",
       " 'morris-louis': 0.12222222222222223,\n",
       " 'nicholas-roerich': 0.007017543859649123,\n",
       " 'nikolay-bogdanov-belsky': 0.0409090909090909,\n",
       " 'odilon-redon': 0.5090909090909091,\n",
       " 'orest-kiprensky': 0.05833333333333333,\n",
       " 'ossip-zadkine': 0.037500000000000006,\n",
       " 'pablo-picasso': 0.1035294117647059,\n",
       " 'parmigianino': 0.0,\n",
       " 'paul-cezanne': 0.06607142857142857,\n",
       " 'paul-gauguin': 0.3641025641025641,\n",
       " 'paul-klee': 0.2642857142857143,\n",
       " 'paula-modersohn-becker': 0.2727272727272727,\n",
       " 'peter-paul-rubens': 0.27380952380952384,\n",
       " 'pierre-auguste-renoir': 0.4783783783783784,\n",
       " 'pierre-bonnard': 0.12500000000000003,\n",
       " 'piet-mondrian': 0.3571428571428571,\n",
       " 'pyotr-konchalovsky': 0.002150537634408602,\n",
       " 'raoul-dufy': 0.0,\n",
       " 'raphael': 0.0923076923076923,\n",
       " 'raphael-kirchner': 0.07021276595744681,\n",
       " 'rembrandt': 0.4734177215189876,\n",
       " 'richard-diebenkorn': 0.07777777777777778,\n",
       " 'roy-lichtenstein': 0.0,\n",
       " 'salvador-dali': 0.05777777777777778,\n",
       " 'sam-francis': 0.11481481481481481,\n",
       " 'tarsila-do-amaral': 0.18,\n",
       " 'theodore-gericault': 0.025000000000000005,\n",
       " 'theodore-rousseau': 0.09090909090909091,\n",
       " 'thomas-cole': 0.11666666666666667,\n",
       " 'thomas-eakins': 0.0,\n",
       " 'thomas-gainsborough': 0.029411764705882353,\n",
       " 'tintoretto': 0.2421052631578947,\n",
       " 'titian': 0.324,\n",
       " 'valentin-serov': 0.14761904761904762,\n",
       " 'vasily-perov': 0.0,\n",
       " 'vasily-polenov': 0.10500000000000001,\n",
       " 'vasily-surikov': 0.2071428571428571,\n",
       " 'vincent-van-gogh': 0.17621621621621628,\n",
       " 'walter-sickert': 0.037500000000000006,\n",
       " 'wassily-kandinsky': 0.08571428571428573,\n",
       " 'willard-metcalf': 0.13333333333333333,\n",
       " 'willem-de-kooning': 0.06666666666666668,\n",
       " 'william-james-glackens': 0.06999999999999999,\n",
       " 'william-merritt-chase': 0.05128205128205128,\n",
       " 'william-turner': 0.023529411764705882,\n",
       " 'winslow-homer': 0.018181818181818184,\n",
       " 'zinaida-serebriakova': 0.0032258064516129032}"
      ]
     },
     "execution_count": 15,
     "metadata": {},
     "output_type": "execute_result"
    }
   ],
   "source": [
    "IR_metrics = torch.load('trained_models/wikiart/random_artists/TripletResNet_image_text_features_posrandom_negrandom_100_margin1_notrans_epoch_30/IR_metrics/metrics_val.pth')\n",
    "print_mean_metrics(IR_metrics)\n",
    "#IR_metrics['mrr_artist']['andy-warhol']\n",
    "IR_metrics['precision_at_k_artist']"
   ]
  },
  {
   "cell_type": "code",
   "execution_count": 11,
   "metadata": {},
   "outputs": [
    {
     "data": {
      "text/plain": [
       "0.25128384687208216"
      ]
     },
     "execution_count": 11,
     "metadata": {},
     "output_type": "execute_result"
    }
   ],
   "source": [
    "IR = torch.load('trained_models/wikiart/ResNet34/baseline_IR_metrics/image_text_features_val.pth')\n",
    "IR['mrr_artist']['pablo-picasso']"
   ]
  },
  {
   "cell_type": "code",
   "execution_count": 4,
   "metadata": {},
   "outputs": [
    {
     "name": "stdout",
     "output_type": "stream",
     "text": [
      "Precision at k10 for artist: 0.369, MRR for artist: 0.406\n",
      "Precision at k10 for second degree artist: 0.396, MRR for second degree artist: 0.434\n"
     ]
    }
   ],
   "source": [
    "IR = torch.load('trained_models/wikiart/ResNet34/TripletResNet_image_text_features_posrandom_negrandom_100_margin1/IR_metrics/metrics_val.pth')\n",
    "print_mean_metrics(IR)"
   ]
  },
  {
   "cell_type": "code",
   "execution_count": 4,
   "metadata": {},
   "outputs": [
    {
     "name": "stdout",
     "output_type": "stream",
     "text": [
      "Precision at k10 for artist: 0.169, MRR for artist: 0.286\n",
      "Precision at k10 for second degree artist: 0.191, MRR for second degree artist: 0.318\n"
     ]
    },
    {
     "data": {
      "text/plain": [
       "{'alexander mcqueen': 0.11071428571428571,\n",
       " 'alexander wang': 0.1445692883895131,\n",
       " 'andrew gn': 0.1332167832167832,\n",
       " 'anna sui': 0.13612167300380226,\n",
       " 'armani prive': 0.36160714285714285,\n",
       " 'balenciaga': 0.3950226244343891,\n",
       " 'balmain': 0.45818965517241383,\n",
       " 'blumarine': 0.09857142857142857,\n",
       " 'bottega veneta': 0.07352941176470588,\n",
       " 'burberry': 0.41201550387596897,\n",
       " 'calvin klein': 0.07404580152671755,\n",
       " 'chado ralph rucci': 0.19132075471698115,\n",
       " 'chanel': 0.11134453781512606,\n",
       " 'chloe': 0.11444444444444445,\n",
       " 'christian dior': 0.15985915492957745,\n",
       " 'derek lam': 0.09607142857142857,\n",
       " 'dolce & gabbana': 0.174375,\n",
       " 'dries van noten': 0.16151202749140894,\n",
       " 'emporio armani': 0.48848684210526316,\n",
       " 'etro': 0.2842553191489362,\n",
       " 'fendi': 0.1232876712328767,\n",
       " 'giambattista valli': 0.19025641025641027,\n",
       " 'giorgio armani': 0.062359550561797754,\n",
       " 'givenchy': 0.025242718446601944,\n",
       " 'gucci': 0.13999999999999999,\n",
       " 'hermes': 0.027777777777777776,\n",
       " 'jason wu': 0.4232638888888889,\n",
       " 'jean paul gaultier': 0.08800000000000001,\n",
       " 'jil sander': 0.07456896551724138,\n",
       " 'lanvin': 0.36075268817204303,\n",
       " 'louis vuitton': 0.13386243386243388,\n",
       " 'marc by marc jacobs': 0.15142857142857144,\n",
       " 'marc jacobs': 0.07878787878787878,\n",
       " 'marni': 0.0634228187919463,\n",
       " 'max mara': 0.06360294117647058,\n",
       " 'michael kors': 0.2022598870056497,\n",
       " 'missoni': 0.37579365079365074,\n",
       " 'miu miu': 0.11076923076923077,\n",
       " 'nina ricci': 0.23976377952755906,\n",
       " 'oscar de la renta': 0.08019323671497586,\n",
       " 'prada': 0.08444444444444445,\n",
       " 'ralph lauren': 0.08958333333333333,\n",
       " 'stella mccartney': 0.19323843416370107,\n",
       " 'tommy hilfiger': 0.2123134328358209,\n",
       " 'tory burch': 0.16666666666666666,\n",
       " 'valentino': 0.10104166666666668,\n",
       " 'vera wang': 0.11590909090909092,\n",
       " 'versace': 0.04747474747474747,\n",
       " 'yves saint laurent': 0.07725118483412323}"
      ]
     },
     "execution_count": 4,
     "metadata": {},
     "output_type": "execute_result"
    }
   ],
   "source": [
    "IR = torch.load('trained_models/fashion/ResNet34_newsplit/TripletResNet_image_features_posfaiss_negrandom_100_margin1/IR_metrics/metrics_val.pth')\n",
    "print_mean_metrics(IR)\n",
    "IR['precision_at_k_artist']"
   ]
  },
  {
   "cell_type": "code",
   "execution_count": 45,
   "metadata": {},
   "outputs": [
    {
     "name": "stdout",
     "output_type": "stream",
     "text": [
      "Precision at k10 for artist: 0.182, MRR for artist: 0.259\n",
      "Precision at k10 for second degree artist: 0.259, MRR for second degree artist: 0.356\n"
     ]
    },
    {
     "data": {
      "text/plain": [
       "3896"
      ]
     },
     "execution_count": 45,
     "metadata": {},
     "output_type": "execute_result"
    }
   ],
   "source": [
    "IR = torch.load('trained_models/wikiart/ResNet34/TripletResNet_image_features_posrandom_negrandom_100_margin1/IR_metrics/metrics_val.pth')\n",
    "print_mean_metrics(IR)\n",
    "IR[\"retrieved_indexes\"].count()"
   ]
  },
  {
   "cell_type": "code",
   "execution_count": 46,
   "metadata": {},
   "outputs": [
    {
     "name": "stdout",
     "output_type": "stream",
     "text": [
      "Precision at k10 for artist: 0.14, MRR for artist: 0.227\n",
      "Precision at k10 for second degree artist: 0.205, MRR for second degree artist: 0.321\n"
     ]
    },
    {
     "data": {
      "text/plain": [
       "3896"
      ]
     },
     "execution_count": 46,
     "metadata": {},
     "output_type": "execute_result"
    }
   ],
   "source": [
    "IR = torch.load('trained_models/wikiart/ResNet34/TripletResNet_image_features_posrandom_negrandom_10_margin2/IR_metrics/metrics_val.pth')\n",
    "print_mean_metrics(IR)\n",
    "IR[\"retrieved_indexes\"].count()"
   ]
  },
  {
   "cell_type": "markdown",
   "metadata": {},
   "source": [
    "NEW SPLIT"
   ]
  },
  {
   "cell_type": "code",
   "execution_count": 9,
   "metadata": {},
   "outputs": [
    {
     "name": "stdout",
     "output_type": "stream",
     "text": [
      "Precision at k10 for artist: 0.09081671462353451, MRR for artist: 0.17586155179225196\n",
      "Precision at k10 for second degree artist: 0.15114251953296615, MRR for second degree artist: 0.273965619483703\n"
     ]
    }
   ],
   "source": [
    "baseline_image_features = torch.load('trained_models/wikiart/ResNet34_newsplit/baseline_IR_metrics/image_features.pth')\n",
    "print_mean_metrics(baseline_image_features)"
   ]
  },
  {
   "cell_type": "code",
   "execution_count": 8,
   "metadata": {},
   "outputs": [
    {
     "name": "stdout",
     "output_type": "stream",
     "text": [
      "Precision at k10 for artist: 0.15960739651260686, MRR for artist: 0.24855529117239078\n",
      "Precision at k10 for second degree artist: 0.2319212641093632, MRR for second degree artist: 0.3427187161415528\n"
     ]
    }
   ],
   "source": [
    "IR = torch.load('trained_models/wikiart/ResNet34_newsplit/TripletResNet_image_features_posrandom_negrandom_10_margin1/IR_metrics/metrics_val.pth')\n",
    "print_mean_metrics(IR)"
   ]
  },
  {
   "cell_type": "markdown",
   "metadata": {},
   "source": [
    "IMAGE TEXT"
   ]
  },
  {
   "cell_type": "code",
   "execution_count": 16,
   "metadata": {},
   "outputs": [
    {
     "name": "stdout",
     "output_type": "stream",
     "text": [
      "Precision at k10 for artist: 0.0454177015532542, MRR for artist: 0.10915260853476741\n",
      "Precision at k10 for second degree artist: 0.07950814155401931, MRR for second degree artist: 0.175735971321347\n"
     ]
    }
   ],
   "source": [
    "baseline_image_text_features = torch.load('trained_models/wikiart/ResNet34/baseline_IR_metrics/image_text_features.pth')\n",
    "print_mean_metrics(baseline_image_text_features)"
   ]
  },
  {
   "cell_type": "code",
   "execution_count": 19,
   "metadata": {},
   "outputs": [
    {
     "name": "stdout",
     "output_type": "stream",
     "text": [
      "Precision at k10 for artist: 0.2761984239001457, MRR for artist: 0.3642479648277274\n",
      "Precision at k10 for second degree artist: 0.33169840468374284, MRR for second degree artist: 0.41180225660817443\n"
     ]
    }
   ],
   "source": [
    "IR = torch.load('trained_models/wikiart/ResNet34/TripletResNet_image_text_features_posrandom_negrandom/IR_metrics/metrics_val.pth')\n",
    "print_mean_metrics(IR)"
   ]
  },
  {
   "cell_type": "markdown",
   "metadata": {},
   "source": [
    "TEXT"
   ]
  },
  {
   "cell_type": "code",
   "execution_count": 2,
   "metadata": {},
   "outputs": [
    {
     "name": "stdout",
     "output_type": "stream",
     "text": [
      "Precision at k10 for artist: 0.037223533047094054, MRR for artist: 0.09596899901397028\n",
      "Precision at k10 for second degree artist: 0.07363435649042731, MRR for second degree artist: 0.16441877933654173\n",
      "----------\n",
      "Precision at k10 for artist: 0.21381878698139536, MRR for artist: 0.2964709235152587\n",
      "Precision at k10 for second degree artist: 0.25444093350551983, MRR for second degree artist: 0.33564071729814676\n"
     ]
    }
   ],
   "source": [
    "baseline_image_text_features = torch.load('trained_models/wikiart/ResNet34/baseline_IR_metrics/text_features.pth')\n",
    "print_mean_metrics(baseline_image_text_features)\n",
    "print('----------')\n",
    "IR = torch.load('trained_models/wikiart/ResNet34/TripletResNet_text_features_posrandom_negrandom/IR_metrics/metrics_val.pth')\n",
    "print_mean_metrics(IR)\n",
    "\n"
   ]
  },
  {
   "cell_type": "markdown",
   "metadata": {},
   "source": [
    "ARTISTS\n"
   ]
  },
  {
   "cell_type": "code",
   "execution_count": 41,
   "metadata": {},
   "outputs": [
    {
     "name": "stdout",
     "output_type": "stream",
     "text": [
      "Precision at k10 for artist: 0.313, MRR for artist: 0.488\n",
      "Precision at k10 for second degree artist: 0.322, MRR for second degree artist: 0.501\n",
      "----------\n",
      "Precision at k10 for artist: 0.45, MRR for artist: 0.613\n",
      "Precision at k10 for second degree artist: 0.455, MRR for second degree artist: 0.62\n"
     ]
    }
   ],
   "source": [
    "baseline_image_text_features = torch.load('trained_models/wikiart/Artists/baseline_IR_metrics/paul-gauguin_image_features.pth')\n",
    "print_mean_metrics(baseline_image_text_features)\n",
    "print('----------')\n",
    "IR = torch.load('trained_models/wikiart/Artists/paul-gauguin_TripletResNet_image_features_posrandom_negrandom_10_margin2/IR_metrics/metrics_val.pth')\n",
    "print_mean_metrics(IR)"
   ]
  },
  {
   "cell_type": "code",
   "execution_count": 42,
   "metadata": {},
   "outputs": [
    {
     "data": {
      "text/plain": [
       "392"
      ]
     },
     "execution_count": 42,
     "metadata": {},
     "output_type": "execute_result"
    }
   ],
   "source": [
    "len(baseline_image_text_features['retrieved_indexes'])"
   ]
  },
  {
   "cell_type": "markdown",
   "metadata": {},
   "source": [
    "FASHION"
   ]
  },
  {
   "cell_type": "code",
   "execution_count": 11,
   "metadata": {},
   "outputs": [],
   "source": [
    "\n",
    "baseline_image_features = torch.load('trained_models/fashion/ResNet34_newsplit/baseline_IR_metrics/image_features.pth')"
   ]
  },
  {
   "cell_type": "code",
   "execution_count": 22,
   "metadata": {},
   "outputs": [
    {
     "data": {
      "text/plain": [
       "['balmain',\n",
       " 'missoni',\n",
       " 'burberry',\n",
       " 'balenciaga',\n",
       " 'jason wu',\n",
       " 'lanvin',\n",
       " 'gucci',\n",
       " 'nina ricci']"
      ]
     },
     "execution_count": 22,
     "metadata": {},
     "output_type": "execute_result"
    }
   ],
   "source": [
    "import pandas as pd\n",
    "df = pd.read_pickle('DATA/Dataset/iDesigner/idesigner_influences_cropped_features.pkl')\n",
    "artists = set(df['artist_name'])\n",
    "artist_same_influencer = []\n",
    "for artist in artists:\n",
    "    if df[df['artist_name']==artist].reset_index().influenced_by[0][0] == artist and len(df[df['artist_name']==artist].reset_index().influenced_by[0])==1:\n",
    "        artist_same_influencer.append(artist)\n",
    "\n",
    "artist_same_influencer"
   ]
  },
  {
   "cell_type": "code",
   "execution_count": 31,
   "metadata": {},
   "outputs": [
    {
     "name": "stdout",
     "output_type": "stream",
     "text": [
      "Precision at k10 for artist: 0.052, MRR for artist: 0.122\n",
      "Precision at k10 for second degree artist: 0.092, MRR for second degree artist: 0.197\n"
     ]
    }
   ],
   "source": [
    "baseline_image_features['precision_at_k_artist']\n",
    "\n",
    "def remove_artist_same_influencer(My_dict, artist_same_influencer):\n",
    "    name_dicts = ['precision_at_k_artist','mrr_artist', 'precision_at_k_artist_second_degree', 'mrr_artist_second_degree']\n",
    "    for name in name_dicts:\n",
    "        for key in artist_same_influencer:\n",
    "            My_dict[name].pop(key, None)\n",
    "\n",
    "\n",
    "#remove_artist_same_influencer(baseline_image_features,artist_same_influencer)\n",
    "print_mean_metrics(baseline_image_features)"
   ]
  },
  {
   "cell_type": "code",
   "execution_count": 4,
   "metadata": {},
   "outputs": [
    {
     "name": "stdout",
     "output_type": "stream",
     "text": [
      "Precision at k10 for artist: 0.162, MRR for artist: 0.244\n",
      "Precision at k10 for second degree artist: 0.185, MRR for second degree artist: 0.275\n"
     ]
    }
   ],
   "source": [
    "\n",
    "IR = torch.load('trained_models/fashion/ResNet34_newsplit/TripletResNet_image_features_posrandom_negrandom_100_margin1/IR_metrics/metrics_val.pth')\n",
    "#remove_artist_same_influencer(IR,artist_same_influencer)\n",
    "print_mean_metrics(IR)"
   ]
  },
  {
   "cell_type": "code",
   "execution_count": null,
   "metadata": {},
   "outputs": [],
   "source": []
  },
  {
   "cell_type": "code",
   "execution_count": 3,
   "metadata": {},
   "outputs": [
    {
     "name": "stdout",
     "output_type": "stream",
     "text": [
      "Precision at k10 for artist: 0.063, MRR for artist: 0.167\n",
      "Precision at k10 for second degree artist: 0.072, MRR for second degree artist: 0.188\n"
     ]
    }
   ],
   "source": [
    "IR = torch.load('trained_models/fashion/ResNet34_newsplit/TripletResNet_image_features_posfaiss_negrandom_10_margin1/IR_metrics/metrics_val.pth')\n",
    "#remove_artist_same_influencer(IR,artist_same_influencer)\n",
    "print_mean_metrics(IR)"
   ]
  },
  {
   "cell_type": "code",
   "execution_count": 35,
   "metadata": {},
   "outputs": [
    {
     "name": "stdout",
     "output_type": "stream",
     "text": [
      "Precision at k10 for artist: 0.162, MRR for artist: 0.244\n",
      "Precision at k10 for second degree artist: 0.185, MRR for second degree artist: 0.275\n"
     ]
    }
   ],
   "source": [
    "\n",
    "IR = torch.load('trained_models/fashion/ResNet34_newsplit/TripletResNet_image_features_posrandom_negrandom_100_margin1/IR_metrics/metrics_val.pth')\n",
    "#remove_artist_same_influencer(IR,artist_same_influencer)\n",
    "print_mean_metrics(IR)"
   ]
  }
 ],
 "metadata": {
  "kernelspec": {
   "display_name": "artsagenet",
   "language": "python",
   "name": "python3"
  },
  "language_info": {
   "codemirror_mode": {
    "name": "ipython",
    "version": 3
   },
   "file_extension": ".py",
   "mimetype": "text/x-python",
   "name": "python",
   "nbconvert_exporter": "python",
   "pygments_lexer": "ipython3",
   "version": "3.11.7"
  }
 },
 "nbformat": 4,
 "nbformat_minor": 2
}
