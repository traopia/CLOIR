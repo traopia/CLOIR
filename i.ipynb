{
 "cells": [
  {
   "cell_type": "code",
   "execution_count": 1,
   "metadata": {},
   "outputs": [],
   "source": [
    "import pandas as pd\n",
    "import numpy as np\n",
    "df = pd.read_pickle('DATA/Dataset/wikiart/wikiartINFL.pkl')\n",
    "embeddings = np.vstack(df['image_features'].values)\n",
    "\n"
   ]
  },
  {
   "cell_type": "code",
   "execution_count": 14,
   "metadata": {},
   "outputs": [
    {
     "name": "stdout",
     "output_type": "stream",
     "text": [
      "1400-1450\n",
      "10.968136\n",
      "1450-1500\n",
      "14.615137\n",
      "1500-1550\n",
      "14.825448\n",
      "1550-1600\n",
      "13.910765\n",
      "1600-1650\n",
      "14.332055\n",
      "1650-1700\n",
      "14.278875\n",
      "1700-1750\n",
      "14.444134\n",
      "1750-1800\n",
      "13.570471\n",
      "1800-1850\n",
      "14.454664\n",
      "1850-1900\n",
      "14.938046\n",
      "1900-1950\n",
      "15.167781\n",
      "1950-2000\n",
      "15.643068\n",
      "2000-2050\n",
      "14.919926\n"
     ]
    }
   ],
   "source": [
    "#group by timeframe and compute the distance between the mean of the embeddings within the timeframe\n",
    "\n",
    "df_group = df.groupby('timeframe_estimation')\n",
    "distance_list = []\n",
    "for group in df_group.groups:\n",
    "    print(group)\n",
    "    group_df = df_group.get_group(group)\n",
    "    group_embeddings = np.vstack(group_df['image_features'].values)\n",
    "    mean_embedding = np.mean(group_embeddings, axis=0)\n",
    "    distances = np.linalg.norm(group_embeddings - mean_embedding, axis=1)\n",
    "    print(np.mean(distances))\n",
    "    # group_df['distance'] = distances\n",
    "    # print(group_df[['distance']].sort_values('distance', ascending=False).head(5))"
   ]
  },
  {
   "cell_type": "code",
   "execution_count": 18,
   "metadata": {},
   "outputs": [
    {
     "data": {
      "image/png": "[encoded data removed]",
      "text/plain": [
       "<Figure size 640x480 with 1 Axes>"
      ]
     },
     "metadata": {},
     "output_type": "display_data"
    }
   ],
   "source": [
    "from sklearn.metrics.pairwise import euclidean_distances\n",
    "import pandas as pd\n",
    "import numpy as np\n",
    "import matplotlib.pyplot as plt\n",
    "df = pd.read_pickle('DATA/Dataset/wikiart/wikiartINFL.pkl')\n",
    "embeddings = np.vstack(df['image_features'].values)\n",
    "# Calculate distances between observations and their influencers\n",
    "influencer_distances = []\n",
    "\n",
    "for i, obs in df.iterrows():\n",
    "    obs_vector = embeddings[i]\n",
    "    influencers = obs['influenced_by']\n",
    "    influencer_vectors = embeddings[df['artist_name'].isin(influencers)]\n",
    "    \n",
    "    if len(influencer_vectors) > 0:\n",
    "        distances_to_influencers = euclidean_distances([obs_vector], influencer_vectors)\n",
    "        avg_distance_to_influencers = np.mean(distances_to_influencers)\n",
    "        influencer_distances.append(avg_distance_to_influencers)\n",
    "    else:\n",
    "        influencer_distances.append(np.nan)\n",
    "\n",
    "df['influencer_distance'] = influencer_distances\n",
    "\n",
    "#Analyze and plot influencer distances\n",
    "plt.hist(df['influencer_distance'].dropna(), bins=50)\n",
    "plt.title('Histogram of Distances to Influencers')\n",
    "plt.xlabel('Distance')\n",
    "plt.ylabel('Frequency')\n",
    "plt.show()\n"
   ]
  },
  {
   "cell_type": "code",
   "execution_count": 21,
   "metadata": {},
   "outputs": [
    {
     "data": {
      "text/plain": [
       "artist_name\n",
       "adriaen-brouwer           19.842512\n",
       "adriaen-van-ostade        20.637928\n",
       "albrecht-durer            21.286177\n",
       "alfred-sisley             19.320747\n",
       "alphonse-mucha            20.771080\n",
       "                            ...    \n",
       "william-james-glackens    22.560398\n",
       "william-merritt-chase     20.029058\n",
       "william-turner            21.831253\n",
       "winslow-homer             20.226562\n",
       "zinaida-serebriakova      19.969364\n",
       "Name: influencer_distance, Length: 154, dtype: float32"
      ]
     },
     "execution_count": 21,
     "metadata": {},
     "output_type": "execute_result"
    }
   ],
   "source": [
    "df.groupby('artist_name')['influencer_distance'].mean()"
   ]
  },
  {
   "cell_type": "code",
   "execution_count": 17,
   "metadata": {},
   "outputs": [
    {
     "data": {
      "text/plain": [
       "0      22.972967\n",
       "1      18.601810\n",
       "2            NaN\n",
       "3            NaN\n",
       "4            NaN\n",
       "         ...    \n",
       "995    22.957687\n",
       "996    20.088682\n",
       "997    21.616325\n",
       "998    22.388079\n",
       "999    22.031797\n",
       "Name: influencer_distance, Length: 1000, dtype: float64"
      ]
     },
     "execution_count": 17,
     "metadata": {},
     "output_type": "execute_result"
    }
   ],
   "source": [
    "df['influencer_distance']"
   ]
  }
 ],
 "metadata": {
  "kernelspec": {
   "display_name": "artsagenet_new",
   "language": "python",
   "name": "python3"
  },
  "language_info": {
   "codemirror_mode": {
    "name": "ipython",
    "version": 3
   },
   "file_extension": ".py",
   "mimetype": "text/x-python",
   "name": "python",
   "nbconvert_exporter": "python",
   "pygments_lexer": "ipython3",
   "version": "3.11.7"
  }
 },
 "nbformat": 4,
 "nbformat_minor": 2
}
